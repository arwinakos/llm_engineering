{
 "cells": [
  {
   "cell_type": "code",
   "execution_count": null,
   "id": "85d4535e-b29a-4212-8036-f5998a973b9a",
   "metadata": {},
   "outputs": [],
   "source": [
    "# imports\n",
    "\n",
    "import os\n",
    "import requests\n",
    "from dotenv import load_dotenv\n",
    "from bs4 import BeautifulSoup\n",
    "from IPython.display import Markdown, display\n",
    "from openai import OpenAI"
   ]
  },
  {
   "cell_type": "code",
   "execution_count": null,
   "id": "47c794c8-d8f3-4703-89f5-8701edbe8995",
   "metadata": {},
   "outputs": [],
   "source": [
    "# Connecting to OpenAI"
   ]
  },
  {
   "cell_type": "code",
   "execution_count": null,
   "id": "10a661d1-bd9f-49e1-ae1d-9f4bb1af51e3",
   "metadata": {},
   "outputs": [],
   "source": [
    "# Load environment variables in a file called .env\n",
    "\n",
    "load_dotenv()\n",
    "os.environ['OPENAI_API_KEY'] = os.getenv('OPENAI_API_KEY','your-key-if-not-using-env')\n",
    "openai = OpenAI()\n"
   ]
  },
  {
   "cell_type": "code",
   "execution_count": null,
   "id": "7a9c274a-4409-4a93-b7f8-20968da41925",
   "metadata": {},
   "outputs": [],
   "source": [
    "site = \"https://www.tripadvisor.com/AttractionProductReview-g297913-d23736907-4_Days_Group_Camping_Safari-Arusha_Arusha_Region.html\""
   ]
  },
  {
   "cell_type": "code",
   "execution_count": null,
   "id": "cc01ac4c-1674-4723-8843-d74513659390",
   "metadata": {},
   "outputs": [],
   "source": [
    "from selenium import webdriver\n",
    "from selenium.webdriver.common.by import By\n",
    "\n",
    "# Initialize Safari WebDriver\n",
    "driver = webdriver.Safari()\n",
    "\n",
    "driver.get(site)\n",
    "title = driver.title  # Page title\n",
    "body = driver.find_element(By.TAG_NAME, \"body\").text  # Extract body text\n",
    "\n",
    "print(\"Title:\", title)\n",
    "print(\"Body:\", body)\n",
    "\n",
    "driver.quit()"
   ]
  },
  {
   "cell_type": "code",
   "execution_count": null,
   "id": "a8fffade-efe6-4fca-94b5-b6189f53b274",
   "metadata": {},
   "outputs": [],
   "source": [
    "system_prompt = \"You are an researcher that analyzes the contents of the review \\\n",
    "section of an activity or location in TripAdvisor \\\n",
    "and provides the aggregate score, a sentiment analysis of the comments, a categorization of the comments with their counts\\\n",
    "and 2 sentece summary, along with the top 3 things people liked and the top 3 things\\\n",
    "people disliked in a tabular format,\\\n",
    "ignoring text that might be navigation related. \\\n",
    "Respond in markdown.\""
   ]
  },
  {
   "cell_type": "code",
   "execution_count": null,
   "id": "8347b4f7-baa5-4041-9644-edff0495fa9b",
   "metadata": {},
   "outputs": [],
   "source": [
    "def user_prompt_for(driver):\n",
    "    user_prompt = f\"You are looking at a website titled {title}\"\n",
    "    user_prompt += \"The contents of this website is as follows; \\\n",
    "please provide a short sentiment analysis of the reviews in this website in markdown.\\n\\n\"\n",
    "    user_prompt += body\n",
    "    return user_prompt"
   ]
  },
  {
   "cell_type": "code",
   "execution_count": null,
   "id": "efc06941-0d36-4a93-98ce-a65416e99eb3",
   "metadata": {},
   "outputs": [],
   "source": [
    "def messages_for(driver):\n",
    "    return [\n",
    "        {\"role\": \"system\", \"content\": system_prompt},\n",
    "        {\"role\": \"user\", \"content\": user_prompt_for(driver)}\n",
    "    ]"
   ]
  },
  {
   "cell_type": "code",
   "execution_count": null,
   "id": "3036fc65-a4ce-429a-9a0e-ddbb23abb98d",
   "metadata": {},
   "outputs": [],
   "source": [
    "## Time to bring it together - the API for OpenAI is very simple!"
   ]
  },
  {
   "cell_type": "code",
   "execution_count": null,
   "id": "4244ad50-5a60-421a-b4d6-2e2dc0d5ac25",
   "metadata": {},
   "outputs": [],
   "source": [
    "def summarize(url):\n",
    "    website = url\n",
    "    response = openai.chat.completions.create(\n",
    "        model = \"gpt-4o-mini\",\n",
    "        messages = messages_for(driver)\n",
    "    )\n",
    "    return response.choices[0].message.content"
   ]
  },
  {
   "cell_type": "code",
   "execution_count": null,
   "id": "ec8853e1-cd7b-42df-9eca-cee5e267e45b",
   "metadata": {},
   "outputs": [],
   "source": [
    "def display_summary(url):\n",
    "    summary = summarize(url)\n",
    "    display(Markdown(summary))"
   ]
  },
  {
   "cell_type": "code",
   "execution_count": null,
   "id": "f29b5bcd-434d-4f2c-be5c-cd9ad2b4c43d",
   "metadata": {},
   "outputs": [],
   "source": [
    "display_summary(site)"
   ]
  },
  {
   "cell_type": "code",
   "execution_count": null,
   "id": "01f8704b-0c83-4414-b639-b99e63c147d1",
   "metadata": {},
   "outputs": [],
   "source": []
  }
 ],
 "metadata": {
  "kernelspec": {
   "display_name": "Python 3 (ipykernel)",
   "language": "python",
   "name": "python3"
  },
  "language_info": {
   "codemirror_mode": {
    "name": "ipython",
    "version": 3
   },
   "file_extension": ".py",
   "mimetype": "text/x-python",
   "name": "python",
   "nbconvert_exporter": "python",
   "pygments_lexer": "ipython3",
   "version": "3.11.11"
  }
 },
 "nbformat": 4,
 "nbformat_minor": 5
}
